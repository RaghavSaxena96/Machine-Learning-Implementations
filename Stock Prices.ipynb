{
 "cells": [
  {
   "cell_type": "markdown",
   "metadata": {},
   "source": [
    "# Predicting Stock Prices with ML"
   ]
  },
  {
   "cell_type": "code",
   "execution_count": 2,
   "metadata": {},
   "outputs": [],
   "source": [
    "import numpy as np\n",
    "import pandas as pd\n",
    "%matplotlib inline\n",
    "import matplotlib.pyplot as plt\n",
    "import datetime\n",
    "import seaborn as sns"
   ]
  },
  {
   "cell_type": "code",
   "execution_count": 3,
   "metadata": {},
   "outputs": [],
   "source": [
    "plt.style.use('seaborn-darkgrid')\n",
    "plt.rc('figure', figsize=(16,10))\n",
    "plt.rc('lines', markersize=4)"
   ]
  },
  {
   "cell_type": "code",
   "execution_count": 4,
   "metadata": {},
   "outputs": [
    {
     "data": {
      "text/html": [
       "<div>\n",
       "<style scoped>\n",
       "    .dataframe tbody tr th:only-of-type {\n",
       "        vertical-align: middle;\n",
       "    }\n",
       "\n",
       "    .dataframe tbody tr th {\n",
       "        vertical-align: top;\n",
       "    }\n",
       "\n",
       "    .dataframe thead th {\n",
       "        text-align: right;\n",
       "    }\n",
       "</style>\n",
       "<table border=\"1\" class=\"dataframe\">\n",
       "  <thead>\n",
       "    <tr style=\"text-align: right;\">\n",
       "      <th></th>\n",
       "      <th>Date</th>\n",
       "      <th>Open</th>\n",
       "      <th>High</th>\n",
       "      <th>Low</th>\n",
       "      <th>Close</th>\n",
       "      <th>Change</th>\n",
       "      <th>Traded Volume</th>\n",
       "      <th>Turnover</th>\n",
       "      <th>Last Price of the Day</th>\n",
       "      <th>Daily Traded Units</th>\n",
       "      <th>Daily Turnover</th>\n",
       "    </tr>\n",
       "  </thead>\n",
       "  <tbody>\n",
       "    <tr>\n",
       "      <th>0</th>\n",
       "      <td>2009-03-09</td>\n",
       "      <td>25.16</td>\n",
       "      <td>25.82</td>\n",
       "      <td>24.48</td>\n",
       "      <td>25.59</td>\n",
       "      <td>NaN</td>\n",
       "      <td>5749357.0</td>\n",
       "      <td>145200289.0</td>\n",
       "      <td>NaN</td>\n",
       "      <td>NaN</td>\n",
       "      <td>NaN</td>\n",
       "    </tr>\n",
       "    <tr>\n",
       "      <th>1</th>\n",
       "      <td>2009-03-10</td>\n",
       "      <td>25.68</td>\n",
       "      <td>26.95</td>\n",
       "      <td>25.68</td>\n",
       "      <td>26.87</td>\n",
       "      <td>NaN</td>\n",
       "      <td>7507770.0</td>\n",
       "      <td>198480965.0</td>\n",
       "      <td>NaN</td>\n",
       "      <td>NaN</td>\n",
       "      <td>NaN</td>\n",
       "    </tr>\n",
       "    <tr>\n",
       "      <th>2</th>\n",
       "      <td>2009-03-11</td>\n",
       "      <td>26.50</td>\n",
       "      <td>26.95</td>\n",
       "      <td>26.26</td>\n",
       "      <td>26.64</td>\n",
       "      <td>NaN</td>\n",
       "      <td>5855095.0</td>\n",
       "      <td>155815439.0</td>\n",
       "      <td>NaN</td>\n",
       "      <td>NaN</td>\n",
       "      <td>NaN</td>\n",
       "    </tr>\n",
       "    <tr>\n",
       "      <th>3</th>\n",
       "      <td>2009-03-12</td>\n",
       "      <td>26.15</td>\n",
       "      <td>26.47</td>\n",
       "      <td>25.82</td>\n",
       "      <td>26.18</td>\n",
       "      <td>NaN</td>\n",
       "      <td>6294955.0</td>\n",
       "      <td>164489409.0</td>\n",
       "      <td>NaN</td>\n",
       "      <td>NaN</td>\n",
       "      <td>NaN</td>\n",
       "    </tr>\n",
       "    <tr>\n",
       "      <th>4</th>\n",
       "      <td>2009-03-13</td>\n",
       "      <td>26.01</td>\n",
       "      <td>26.24</td>\n",
       "      <td>25.65</td>\n",
       "      <td>25.73</td>\n",
       "      <td>NaN</td>\n",
       "      <td>6814568.0</td>\n",
       "      <td>176228331.0</td>\n",
       "      <td>NaN</td>\n",
       "      <td>NaN</td>\n",
       "      <td>NaN</td>\n",
       "    </tr>\n",
       "  </tbody>\n",
       "</table>\n",
       "</div>"
      ],
      "text/plain": [
       "         Date   Open   High    Low  Close  Change  Traded Volume     Turnover  \\\n",
       "0  2009-03-09  25.16  25.82  24.48  25.59     NaN      5749357.0  145200289.0   \n",
       "1  2009-03-10  25.68  26.95  25.68  26.87     NaN      7507770.0  198480965.0   \n",
       "2  2009-03-11  26.50  26.95  26.26  26.64     NaN      5855095.0  155815439.0   \n",
       "3  2009-03-12  26.15  26.47  25.82  26.18     NaN      6294955.0  164489409.0   \n",
       "4  2009-03-13  26.01  26.24  25.65  25.73     NaN      6814568.0  176228331.0   \n",
       "\n",
       "   Last Price of the Day  Daily Traded Units  Daily Turnover  \n",
       "0                    NaN                 NaN             NaN  \n",
       "1                    NaN                 NaN             NaN  \n",
       "2                    NaN                 NaN             NaN  \n",
       "3                    NaN                 NaN             NaN  \n",
       "4                    NaN                 NaN             NaN  "
      ]
     },
     "execution_count": 4,
     "metadata": {},
     "output_type": "execute_result"
    }
   ],
   "source": [
    "start_date=datetime.date(2009,3,8)\n",
    "end_date=datetime.date(2019,8,3)\n",
    "data=pd.read_csv('sap_stock.csv')\n",
    "data.head()"
   ]
  },
  {
   "cell_type": "code",
   "execution_count": 5,
   "metadata": {},
   "outputs": [
    {
     "data": {
      "text/plain": [
       "<bound method DataFrame.info of             Date   Open   High    Low   Close  Change  Traded Volume  \\\n",
       "0     2009-03-09  25.16  25.82  24.48  25.590     NaN      5749357.0   \n",
       "1     2009-03-10  25.68  26.95  25.68  26.870     NaN      7507770.0   \n",
       "2     2009-03-11  26.50  26.95  26.26  26.640     NaN      5855095.0   \n",
       "3     2009-03-12  26.15  26.47  25.82  26.180     NaN      6294955.0   \n",
       "4     2009-03-13  26.01  26.24  25.65  25.730     NaN      6814568.0   \n",
       "5     2009-03-16  26.22  26.66  25.94  26.480     NaN      5248247.0   \n",
       "6     2009-03-17  26.39  26.49  25.97  26.330     NaN      4760668.0   \n",
       "7     2009-03-18  26.86  27.00  26.34  26.870     NaN      4798820.0   \n",
       "8     2009-03-19  27.50  27.99  27.38  27.630     NaN     10124086.0   \n",
       "9     2009-03-20  27.70  27.90  27.12  27.430     NaN      7357799.0   \n",
       "10    2009-03-23  27.60  27.75  26.74  27.220     NaN      5798061.0   \n",
       "11    2009-03-24  27.44  27.91  27.28  27.590     NaN      4803756.0   \n",
       "12    2009-03-25  27.45  27.98  27.33  27.490     NaN      4381568.0   \n",
       "13    2009-03-26  27.27  27.66  26.96  27.650     NaN      3177932.0   \n",
       "14    2009-03-27  27.15  27.38  26.51  26.750     NaN      6327843.0   \n",
       "15    2009-03-30  26.32  26.45  25.90  25.990     NaN      4593184.0   \n",
       "16    2009-03-31  26.34  26.75  26.14  26.680     NaN      4277732.0   \n",
       "17    2009-04-01  26.39  27.12  25.84  27.000     NaN      4796035.0   \n",
       "18    2009-04-02  27.20  27.95  26.98  27.710     NaN      6782007.0   \n",
       "19    2009-04-03  27.60  27.71  27.03  27.600     NaN      4974342.0   \n",
       "20    2009-04-06  27.65  27.97  27.25  27.650     NaN      3882283.0   \n",
       "21    2009-04-07  27.68  27.94  27.23  27.770     NaN      3838452.0   \n",
       "22    2009-04-08  27.84  28.58  27.39  28.420     NaN      5522579.0   \n",
       "23    2009-04-09  28.90  29.29  28.64  29.010     NaN      5981849.0   \n",
       "24    2009-04-10    NaN    NaN    NaN  29.005     NaN            0.0   \n",
       "25    2009-04-13    NaN    NaN    NaN  29.005     NaN            0.0   \n",
       "26    2009-04-14  29.10  29.38  28.54  29.250     NaN      4762417.0   \n",
       "27    2009-04-15  29.10  29.39  29.04  29.390     NaN      3539119.0   \n",
       "28    2009-04-16  29.31  29.39  28.77  29.330     NaN      4688489.0   \n",
       "29    2009-04-17  29.40  30.00  29.20  29.440     NaN      7044686.0   \n",
       "...          ...    ...    ...    ...     ...     ...            ...   \n",
       "2520  2019-01-28    NaN  92.98  92.09  92.360     NaN            NaN   \n",
       "2521  2019-01-29    NaN  91.39  89.56  89.810     NaN            NaN   \n",
       "2522  2019-01-30    NaN  89.85  88.41  88.830     NaN            NaN   \n",
       "2523  2019-01-31    NaN  90.25  89.00  90.250     NaN            NaN   \n",
       "2524  2019-02-01    NaN  91.08  89.96  90.790     NaN            NaN   \n",
       "2525  2019-02-04    NaN  90.97  89.92  90.970     NaN            NaN   \n",
       "2526  2019-02-05    NaN  92.98  90.59  92.900     NaN            NaN   \n",
       "2527  2019-02-06    NaN  93.42  92.70  92.910     NaN            NaN   \n",
       "2528  2019-02-07    NaN  93.10  90.96  90.960     NaN            NaN   \n",
       "2529  2019-02-08    NaN  92.34  90.55  91.660     NaN            NaN   \n",
       "2530  2019-02-11    NaN  92.97  91.50  92.470     NaN            NaN   \n",
       "2531  2019-02-12    NaN  93.37  92.28  92.400     NaN            NaN   \n",
       "2532  2019-02-13    NaN  94.09  92.39  93.360     NaN            NaN   \n",
       "2533  2019-02-14    NaN  94.56  93.40  93.560     NaN      1830496.0   \n",
       "2534  2019-02-15    NaN  94.99  92.68  94.300     NaN      2376135.0   \n",
       "2535  2019-02-18    NaN  94.75  94.06  94.210     NaN      1102954.0   \n",
       "2536  2019-02-19    NaN  95.03  93.63  94.020     NaN      1457972.0   \n",
       "2537  2019-02-20    NaN  94.63  93.92  94.450     NaN      1407318.0   \n",
       "2538  2019-02-21    NaN  94.88  94.20  94.770     NaN      1638640.0   \n",
       "2539  2019-02-22    NaN  95.72  94.81  95.410     NaN      1779721.0   \n",
       "2540  2019-02-25    NaN  95.90  94.69  94.980     NaN      1484217.0   \n",
       "2541  2019-02-26    NaN  94.65  93.51  94.520     NaN      1892686.0   \n",
       "2542  2019-02-27    NaN  94.43  93.32  93.810     NaN      1573766.0   \n",
       "2543  2019-02-28    NaN  94.26  92.60  94.200     NaN      2136184.0   \n",
       "2544  2019-03-01    NaN  95.01  94.31  94.890     NaN      1749562.0   \n",
       "2545  2019-03-04    NaN  95.90  94.65  94.680     NaN      1175316.0   \n",
       "2546  2019-03-05    NaN  95.44  94.38  95.370     NaN      1384275.0   \n",
       "2547  2019-03-06    NaN  95.95  94.96  95.200     NaN      1288079.0   \n",
       "2548  2019-03-07    NaN  95.98  94.59  95.320     NaN      2153180.0   \n",
       "2549  2019-03-08    NaN  95.69  94.28  95.600     NaN      1885166.0   \n",
       "\n",
       "         Turnover  Last Price of the Day  Daily Traded Units  Daily Turnover  \n",
       "0     145200289.0                    NaN                 NaN             NaN  \n",
       "1     198480965.0                    NaN                 NaN             NaN  \n",
       "2     155815439.0                    NaN                 NaN             NaN  \n",
       "3     164489409.0                    NaN                 NaN             NaN  \n",
       "4     176228331.0                    NaN                 NaN             NaN  \n",
       "5     138331071.0                    NaN                 NaN             NaN  \n",
       "6     124859126.0                    NaN                 NaN             NaN  \n",
       "7     128336388.0                    NaN                 NaN             NaN  \n",
       "8     279853201.0                    NaN                 NaN             NaN  \n",
       "9     201942703.0                    NaN                 NaN             NaN  \n",
       "10    157375083.0                    NaN                 NaN             NaN  \n",
       "11    132641190.0                    NaN                 NaN             NaN  \n",
       "12    121092543.0                    NaN                 NaN             NaN  \n",
       "13     86857562.0                    NaN                 NaN             NaN  \n",
       "14    169352021.0                    NaN                 NaN             NaN  \n",
       "15    119903687.0                    NaN                 NaN             NaN  \n",
       "16    113597657.0                    NaN                 NaN             NaN  \n",
       "17    126872753.0                    NaN                 NaN             NaN  \n",
       "18    186852220.0                    NaN                 NaN             NaN  \n",
       "19    136086452.0                    NaN                 NaN             NaN  \n",
       "20    107116775.0                    NaN                 NaN             NaN  \n",
       "21    106298074.0                    NaN                 NaN             NaN  \n",
       "22    155821593.0                    NaN                 NaN             NaN  \n",
       "23    173497883.0                    NaN                 NaN             NaN  \n",
       "24            NaN                    NaN                 NaN             0.0  \n",
       "25            NaN                    NaN                 NaN             0.0  \n",
       "26    138600725.0                    NaN                 NaN             NaN  \n",
       "27    103550029.0                    NaN                 NaN             NaN  \n",
       "28    136490765.0                    NaN                 NaN             NaN  \n",
       "29    208738637.0                    NaN                 NaN             NaN  \n",
       "...           ...                    ...                 ...             ...  \n",
       "2520          NaN                    NaN                 NaN             NaN  \n",
       "2521          NaN                    NaN                 NaN             NaN  \n",
       "2522          NaN                    NaN                 NaN             NaN  \n",
       "2523          NaN                    NaN                 NaN             NaN  \n",
       "2524          NaN                    NaN                 NaN             NaN  \n",
       "2525          NaN                    NaN                 NaN             NaN  \n",
       "2526          NaN                    NaN                 NaN             NaN  \n",
       "2527          NaN                    NaN                 NaN             NaN  \n",
       "2528          NaN                    NaN                 NaN             NaN  \n",
       "2529          NaN                    NaN                 NaN             NaN  \n",
       "2530          NaN                    NaN                 NaN             NaN  \n",
       "2531          NaN                    NaN                 NaN             NaN  \n",
       "2532          NaN                    NaN                 NaN             NaN  \n",
       "2533  171773477.0                    NaN                 NaN             NaN  \n",
       "2534  223650562.0                    NaN                 NaN             NaN  \n",
       "2535  104010036.0                    NaN                 NaN             NaN  \n",
       "2536  137231933.0                    NaN                 NaN             NaN  \n",
       "2537  132806703.0                    NaN                 NaN             NaN  \n",
       "2538  155141003.0                    NaN                 NaN             NaN  \n",
       "2539  169804420.0                    NaN                 NaN             NaN  \n",
       "2540  141034806.0                    NaN                 NaN             NaN  \n",
       "2541  178210629.0                    NaN                 NaN             NaN  \n",
       "2542  147577834.0                    NaN                 NaN             NaN  \n",
       "2543  200831673.0                    NaN                 NaN             NaN  \n",
       "2544  165854581.0                    NaN                 NaN             NaN  \n",
       "2545  111726532.0                    NaN                 NaN             NaN  \n",
       "2546  131665493.0                    NaN                 NaN             NaN  \n",
       "2547  122812499.0                    NaN                 NaN             NaN  \n",
       "2548  205195252.0                    NaN                 NaN             NaN  \n",
       "2549  179604809.0                    NaN                 NaN             NaN  \n",
       "\n",
       "[2550 rows x 11 columns]>"
      ]
     },
     "execution_count": 5,
     "metadata": {},
     "output_type": "execute_result"
    }
   ],
   "source": [
    "data.info"
   ]
  },
  {
   "cell_type": "code",
   "execution_count": 6,
   "metadata": {},
   "outputs": [
    {
     "data": {
      "text/html": [
       "<div>\n",
       "<style scoped>\n",
       "    .dataframe tbody tr th:only-of-type {\n",
       "        vertical-align: middle;\n",
       "    }\n",
       "\n",
       "    .dataframe tbody tr th {\n",
       "        vertical-align: top;\n",
       "    }\n",
       "\n",
       "    .dataframe thead th {\n",
       "        text-align: right;\n",
       "    }\n",
       "</style>\n",
       "<table border=\"1\" class=\"dataframe\">\n",
       "  <thead>\n",
       "    <tr style=\"text-align: right;\">\n",
       "      <th></th>\n",
       "      <th>Open</th>\n",
       "      <th>High</th>\n",
       "      <th>Low</th>\n",
       "      <th>Close</th>\n",
       "      <th>Change</th>\n",
       "      <th>Traded Volume</th>\n",
       "      <th>Turnover</th>\n",
       "      <th>Last Price of the Day</th>\n",
       "      <th>Daily Traded Units</th>\n",
       "      <th>Daily Turnover</th>\n",
       "    </tr>\n",
       "  </thead>\n",
       "  <tbody>\n",
       "    <tr>\n",
       "      <th>count</th>\n",
       "      <td>2242.000000</td>\n",
       "      <td>2543.000000</td>\n",
       "      <td>2543.000000</td>\n",
       "      <td>2550.000000</td>\n",
       "      <td>11.000000</td>\n",
       "      <td>2.504000e+03</td>\n",
       "      <td>2.497000e+03</td>\n",
       "      <td>0.0</td>\n",
       "      <td>0.0</td>\n",
       "      <td>7.0</td>\n",
       "    </tr>\n",
       "    <tr>\n",
       "      <th>mean</th>\n",
       "      <td>56.686896</td>\n",
       "      <td>61.563225</td>\n",
       "      <td>60.535073</td>\n",
       "      <td>60.995955</td>\n",
       "      <td>-0.070000</td>\n",
       "      <td>3.296818e+06</td>\n",
       "      <td>1.828440e+08</td>\n",
       "      <td>NaN</td>\n",
       "      <td>NaN</td>\n",
       "      <td>0.0</td>\n",
       "    </tr>\n",
       "    <tr>\n",
       "      <th>std</th>\n",
       "      <td>18.320821</td>\n",
       "      <td>21.184135</td>\n",
       "      <td>20.934460</td>\n",
       "      <td>21.097480</td>\n",
       "      <td>0.709761</td>\n",
       "      <td>2.004323e+06</td>\n",
       "      <td>9.350710e+07</td>\n",
       "      <td>NaN</td>\n",
       "      <td>NaN</td>\n",
       "      <td>0.0</td>\n",
       "    </tr>\n",
       "    <tr>\n",
       "      <th>min</th>\n",
       "      <td>25.160000</td>\n",
       "      <td>25.820000</td>\n",
       "      <td>24.480000</td>\n",
       "      <td>25.590000</td>\n",
       "      <td>-0.740000</td>\n",
       "      <td>0.000000e+00</td>\n",
       "      <td>1.767350e+05</td>\n",
       "      <td>NaN</td>\n",
       "      <td>NaN</td>\n",
       "      <td>0.0</td>\n",
       "    </tr>\n",
       "    <tr>\n",
       "      <th>25%</th>\n",
       "      <td>41.500000</td>\n",
       "      <td>43.430000</td>\n",
       "      <td>42.590000</td>\n",
       "      <td>42.950000</td>\n",
       "      <td>-0.500000</td>\n",
       "      <td>2.131686e+06</td>\n",
       "      <td>1.300462e+08</td>\n",
       "      <td>NaN</td>\n",
       "      <td>NaN</td>\n",
       "      <td>0.0</td>\n",
       "    </tr>\n",
       "    <tr>\n",
       "      <th>50%</th>\n",
       "      <td>56.560000</td>\n",
       "      <td>58.480000</td>\n",
       "      <td>57.580000</td>\n",
       "      <td>58.015000</td>\n",
       "      <td>-0.290000</td>\n",
       "      <td>2.852772e+06</td>\n",
       "      <td>1.626544e+08</td>\n",
       "      <td>NaN</td>\n",
       "      <td>NaN</td>\n",
       "      <td>0.0</td>\n",
       "    </tr>\n",
       "    <tr>\n",
       "      <th>75%</th>\n",
       "      <td>67.732500</td>\n",
       "      <td>78.365000</td>\n",
       "      <td>77.085000</td>\n",
       "      <td>77.762500</td>\n",
       "      <td>0.085000</td>\n",
       "      <td>3.878528e+06</td>\n",
       "      <td>2.104511e+08</td>\n",
       "      <td>NaN</td>\n",
       "      <td>NaN</td>\n",
       "      <td>0.0</td>\n",
       "    </tr>\n",
       "    <tr>\n",
       "      <th>max</th>\n",
       "      <td>100.100000</td>\n",
       "      <td>108.520000</td>\n",
       "      <td>107.020000</td>\n",
       "      <td>107.800000</td>\n",
       "      <td>1.250000</td>\n",
       "      <td>3.645671e+07</td>\n",
       "      <td>1.369431e+09</td>\n",
       "      <td>NaN</td>\n",
       "      <td>NaN</td>\n",
       "      <td>0.0</td>\n",
       "    </tr>\n",
       "  </tbody>\n",
       "</table>\n",
       "</div>"
      ],
      "text/plain": [
       "              Open         High          Low        Close     Change  \\\n",
       "count  2242.000000  2543.000000  2543.000000  2550.000000  11.000000   \n",
       "mean     56.686896    61.563225    60.535073    60.995955  -0.070000   \n",
       "std      18.320821    21.184135    20.934460    21.097480   0.709761   \n",
       "min      25.160000    25.820000    24.480000    25.590000  -0.740000   \n",
       "25%      41.500000    43.430000    42.590000    42.950000  -0.500000   \n",
       "50%      56.560000    58.480000    57.580000    58.015000  -0.290000   \n",
       "75%      67.732500    78.365000    77.085000    77.762500   0.085000   \n",
       "max     100.100000   108.520000   107.020000   107.800000   1.250000   \n",
       "\n",
       "       Traded Volume      Turnover  Last Price of the Day  Daily Traded Units  \\\n",
       "count   2.504000e+03  2.497000e+03                    0.0                 0.0   \n",
       "mean    3.296818e+06  1.828440e+08                    NaN                 NaN   \n",
       "std     2.004323e+06  9.350710e+07                    NaN                 NaN   \n",
       "min     0.000000e+00  1.767350e+05                    NaN                 NaN   \n",
       "25%     2.131686e+06  1.300462e+08                    NaN                 NaN   \n",
       "50%     2.852772e+06  1.626544e+08                    NaN                 NaN   \n",
       "75%     3.878528e+06  2.104511e+08                    NaN                 NaN   \n",
       "max     3.645671e+07  1.369431e+09                    NaN                 NaN   \n",
       "\n",
       "       Daily Turnover  \n",
       "count             7.0  \n",
       "mean              0.0  \n",
       "std               0.0  \n",
       "min               0.0  \n",
       "25%               0.0  \n",
       "50%               0.0  \n",
       "75%               0.0  \n",
       "max               0.0  "
      ]
     },
     "execution_count": 6,
     "metadata": {},
     "output_type": "execute_result"
    }
   ],
   "source": [
    "data.describe()"
   ]
  },
  {
   "cell_type": "code",
   "execution_count": 7,
   "metadata": {},
   "outputs": [
    {
     "data": {
      "text/plain": [
       "Index(['Date', 'Open', 'High', 'Low', 'Close', 'Change', 'Traded Volume',\n",
       "       'Turnover', 'Last Price of the Day', 'Daily Traded Units',\n",
       "       'Daily Turnover'],\n",
       "      dtype='object')"
      ]
     },
     "execution_count": 7,
     "metadata": {},
     "output_type": "execute_result"
    }
   ],
   "source": [
    "data.columns"
   ]
  },
  {
   "cell_type": "code",
   "execution_count": 8,
   "metadata": {},
   "outputs": [
    {
     "data": {
      "text/html": [
       "<div>\n",
       "<style scoped>\n",
       "    .dataframe tbody tr th:only-of-type {\n",
       "        vertical-align: middle;\n",
       "    }\n",
       "\n",
       "    .dataframe tbody tr th {\n",
       "        vertical-align: top;\n",
       "    }\n",
       "\n",
       "    .dataframe thead th {\n",
       "        text-align: right;\n",
       "    }\n",
       "</style>\n",
       "<table border=\"1\" class=\"dataframe\">\n",
       "  <thead>\n",
       "    <tr style=\"text-align: right;\">\n",
       "      <th></th>\n",
       "      <th>Date</th>\n",
       "      <th>Close</th>\n",
       "    </tr>\n",
       "  </thead>\n",
       "  <tbody>\n",
       "    <tr>\n",
       "      <th>0</th>\n",
       "      <td>2009-03-09</td>\n",
       "      <td>25.59</td>\n",
       "    </tr>\n",
       "    <tr>\n",
       "      <th>1</th>\n",
       "      <td>2009-03-10</td>\n",
       "      <td>26.87</td>\n",
       "    </tr>\n",
       "    <tr>\n",
       "      <th>2</th>\n",
       "      <td>2009-03-11</td>\n",
       "      <td>26.64</td>\n",
       "    </tr>\n",
       "    <tr>\n",
       "      <th>3</th>\n",
       "      <td>2009-03-12</td>\n",
       "      <td>26.18</td>\n",
       "    </tr>\n",
       "    <tr>\n",
       "      <th>4</th>\n",
       "      <td>2009-03-13</td>\n",
       "      <td>25.73</td>\n",
       "    </tr>\n",
       "  </tbody>\n",
       "</table>\n",
       "</div>"
      ],
      "text/plain": [
       "         Date  Close\n",
       "0  2009-03-09  25.59\n",
       "1  2009-03-10  26.87\n",
       "2  2009-03-11  26.64\n",
       "3  2009-03-12  26.18\n",
       "4  2009-03-13  25.73"
      ]
     },
     "execution_count": 8,
     "metadata": {},
     "output_type": "execute_result"
    }
   ],
   "source": [
    "df=pd.DataFrame(data,columns=['Date','Close'])\n",
    "df.head()"
   ]
  },
  {
   "cell_type": "code",
   "execution_count": 9,
   "metadata": {},
   "outputs": [
    {
     "data": {
      "text/plain": [
       "<bound method DataFrame.info of             Date   Close\n",
       "0     2009-03-09  25.590\n",
       "1     2009-03-10  26.870\n",
       "2     2009-03-11  26.640\n",
       "3     2009-03-12  26.180\n",
       "4     2009-03-13  25.730\n",
       "5     2009-03-16  26.480\n",
       "6     2009-03-17  26.330\n",
       "7     2009-03-18  26.870\n",
       "8     2009-03-19  27.630\n",
       "9     2009-03-20  27.430\n",
       "10    2009-03-23  27.220\n",
       "11    2009-03-24  27.590\n",
       "12    2009-03-25  27.490\n",
       "13    2009-03-26  27.650\n",
       "14    2009-03-27  26.750\n",
       "15    2009-03-30  25.990\n",
       "16    2009-03-31  26.680\n",
       "17    2009-04-01  27.000\n",
       "18    2009-04-02  27.710\n",
       "19    2009-04-03  27.600\n",
       "20    2009-04-06  27.650\n",
       "21    2009-04-07  27.770\n",
       "22    2009-04-08  28.420\n",
       "23    2009-04-09  29.010\n",
       "24    2009-04-10  29.005\n",
       "25    2009-04-13  29.005\n",
       "26    2009-04-14  29.250\n",
       "27    2009-04-15  29.390\n",
       "28    2009-04-16  29.330\n",
       "29    2009-04-17  29.440\n",
       "...          ...     ...\n",
       "2520  2019-01-28  92.360\n",
       "2521  2019-01-29  89.810\n",
       "2522  2019-01-30  88.830\n",
       "2523  2019-01-31  90.250\n",
       "2524  2019-02-01  90.790\n",
       "2525  2019-02-04  90.970\n",
       "2526  2019-02-05  92.900\n",
       "2527  2019-02-06  92.910\n",
       "2528  2019-02-07  90.960\n",
       "2529  2019-02-08  91.660\n",
       "2530  2019-02-11  92.470\n",
       "2531  2019-02-12  92.400\n",
       "2532  2019-02-13  93.360\n",
       "2533  2019-02-14  93.560\n",
       "2534  2019-02-15  94.300\n",
       "2535  2019-02-18  94.210\n",
       "2536  2019-02-19  94.020\n",
       "2537  2019-02-20  94.450\n",
       "2538  2019-02-21  94.770\n",
       "2539  2019-02-22  95.410\n",
       "2540  2019-02-25  94.980\n",
       "2541  2019-02-26  94.520\n",
       "2542  2019-02-27  93.810\n",
       "2543  2019-02-28  94.200\n",
       "2544  2019-03-01  94.890\n",
       "2545  2019-03-04  94.680\n",
       "2546  2019-03-05  95.370\n",
       "2547  2019-03-06  95.200\n",
       "2548  2019-03-07  95.320\n",
       "2549  2019-03-08  95.600\n",
       "\n",
       "[2550 rows x 2 columns]>"
      ]
     },
     "execution_count": 9,
     "metadata": {},
     "output_type": "execute_result"
    }
   ],
   "source": [
    "df.info"
   ]
  },
  {
   "cell_type": "code",
   "execution_count": 10,
   "metadata": {},
   "outputs": [
    {
     "data": {
      "text/plain": [
       "False"
      ]
     },
     "execution_count": 10,
     "metadata": {},
     "output_type": "execute_result"
    }
   ],
   "source": [
    "# check for missing values\n",
    "df.isna().values.any()"
   ]
  },
  {
   "cell_type": "markdown",
   "metadata": {},
   "source": [
    "# Exploring the Data"
   ]
  },
  {
   "cell_type": "code",
   "execution_count": 11,
   "metadata": {},
   "outputs": [],
   "source": [
    "import matplotlib.dates as mdates\n",
    "years=mdates.YearLocator()\n",
    "myears=mdates.DateFormatter('%Y')"
   ]
  },
  {
   "cell_type": "code",
   "execution_count": 12,
   "metadata": {},
   "outputs": [
    {
     "data": {
      "image/png": "[encoded data removed]",
      "text/plain": [
       "<matplotlib.figure.Figure at 0x13c26aab400>"
      ]
     },
     "metadata": {},
     "output_type": "display_data"
    }
   ],
   "source": [
    "fig,ax=plt.subplots()\n",
    "ax.plot(df['Date'],df['Close'])\n",
    "\n",
    "plt.title('Stock Prices over the year',fontsize=16)\n",
    "plt.xlabel('dates',fontsize=14)\n",
    "plt.ylabel('current stock prices in $',fontsize=14)\n",
    "plt.show()"
   ]
  },
  {
   "cell_type": "markdown",
   "metadata": {},
   "source": [
    "# Training a Linear regression Model"
   ]
  },
  {
   "cell_type": "code",
   "execution_count": 13,
   "metadata": {},
   "outputs": [],
   "source": [
    "from sklearn.model_selection import train_test_split\n"
   ]
  },
  {
   "cell_type": "code",
   "execution_count": 14,
   "metadata": {},
   "outputs": [],
   "source": [
    "train,test=train_test_split(df,test_size=0.20)"
   ]
  },
  {
   "cell_type": "code",
   "execution_count": 15,
   "metadata": {},
   "outputs": [],
   "source": [
    "y_train=train['Close']\n",
    "x_train=np.array(train.index).reshape(-1,1)"
   ]
  },
  {
   "cell_type": "code",
   "execution_count": 16,
   "metadata": {},
   "outputs": [
    {
     "data": {
      "text/plain": [
       "LinearRegression(copy_X=True, fit_intercept=True, n_jobs=None,\n",
       "         normalize=False)"
      ]
     },
     "execution_count": 16,
     "metadata": {},
     "output_type": "execute_result"
    }
   ],
   "source": [
    "from sklearn.linear_model import LinearRegression\n",
    "model=LinearRegression()\n",
    "model.fit(x_train,y_train)"
   ]
  },
  {
   "cell_type": "code",
   "execution_count": 17,
   "metadata": {},
   "outputs": [],
   "source": [
    "x_test=np.array(test.index).reshape(-1,1)\n",
    "y_test=test['Close']"
   ]
  },
  {
   "cell_type": "code",
   "execution_count": 18,
   "metadata": {},
   "outputs": [],
   "source": [
    "y_pred=model.predict(x_test)"
   ]
  },
  {
   "cell_type": "code",
   "execution_count": 19,
   "metadata": {},
   "outputs": [
    {
     "name": "stdout",
     "output_type": "stream",
     "text": [
      "[73.70549391 56.56333189 94.95955218 79.95668752 69.92699467 76.4560191\n",
      " 37.7541849  43.81089693 45.47788189 60.75857738 61.50872061 51.59016008\n",
      " 39.86569919 79.48437511 57.89691986 69.09350218 52.81261572 39.8379161\n",
      " 26.97434881 37.78196798 63.70358414 61.48093753 88.04156459 73.14983226\n",
      " 26.58538566 56.28550106 37.05960783 51.70129242 61.56428677 26.86321648\n",
      " 34.58691347 37.22630633 61.81433452 46.00576046 37.25408941 84.81872699\n",
      " 66.53745858 65.31500294 37.14295708 31.39185896 61.8421176  63.89806572\n",
      " 52.11803866 44.08872776 45.50566497 75.70587587 35.97606761 68.51005745\n",
      " 35.80936911 25.69632701 91.12548676 50.70110144 83.31844053 87.98599842\n",
      " 29.69709092 79.20654429 78.0674379  50.06209054 31.53077438 35.72601986\n",
      " 63.48131948 86.95802436 77.06724692 64.34259504 43.86646309 52.78483264\n",
      " 44.64438941 64.03698113 36.03163377 39.67121761 45.31118339 87.56925218\n",
      " 95.12625067 34.6980458  67.89882963 38.94885746 62.73117625 33.19775934\n",
      " 36.19833227 47.78387776 80.67904767 74.17780632 70.59378865 73.51101233\n",
      " 48.11727475 27.11326423 35.44818904 29.86378941 81.04022775 71.70511196\n",
      " 46.7559037  84.37419767 87.93043225 85.87448413 40.28244543 80.73461384\n",
      " 73.78884316 32.1420022  33.00327776 78.23413639 37.5874864  26.36312099\n",
      " 35.25370746 47.00595144 53.28492813 62.56447775 38.05979881 54.6185161\n",
      " 35.55932137 61.53650369 82.31824955 83.79075293 40.25466234 91.09770368\n",
      " 78.17857023 76.65050068 62.14773151 94.84841985 94.40389052 46.03354355\n",
      " 49.6453443  59.5916879  46.31137437 96.07087549 45.7834958  39.89348227\n",
      " 45.11670182 89.43071872 55.64649016 59.92508489 31.44742513 39.3656037\n",
      " 53.72945745 88.70835857 54.20176986 60.64744504 37.72640182 46.4225067\n",
      " 33.94790257 68.98236985 74.87238339 51.7290755  36.33724768 86.0967488\n",
      " 55.56314091 50.1176567  39.44895295 91.48666684 81.06801083 90.31977737\n",
      " 63.75915031 52.39586948 49.25638114 75.51139429 28.97473077 47.45048076\n",
      " 72.34412286 71.23279955 78.76201496 36.42059693 59.78616948 56.8689458\n",
      " 44.89443715 75.73365895 74.56676948 57.11899354 87.15250594 80.9568785\n",
      " 82.90169429 42.61622437 79.56772436 81.5958894  44.72773866 45.92241121\n",
      " 87.81929992 32.86436235 66.42632625 90.18086195 79.92890444 96.37648939\n",
      " 94.07049353 35.36483979 92.79247173 33.03106084 42.06056272 91.59779917\n",
      " 88.8194909  71.3161488  65.00938903 33.44780708 27.89119054 65.14830444\n",
      " 33.47559017 85.31882248 35.61488753 30.80841423 72.06629203 80.29008451\n",
      " 55.95210407 68.2600097  95.26516609 52.61813414 53.34049429 91.82006383\n",
      " 46.86703603 60.00843414 79.73442286 28.05788904 68.48227437 73.28874767\n",
      " 65.25943677 26.25198866 44.9777864  82.12376797 73.95554166 60.50852963\n",
      " 65.7039661  43.36636761 86.81910895 86.62462737 57.39682437 94.82063676\n",
      " 33.72563791 92.90360406 82.84612812 91.65336534 52.70148339 32.30870069\n",
      " 60.59187888 28.33571987 59.98065106 35.58710445 55.97988715 73.5665785\n",
      " 67.28760181 32.05865295 78.67866572 51.11784768 44.11651084 61.06419129\n",
      " 80.92909541 69.78807925 73.62214466 32.16978528 26.14085633 89.65298338\n",
      " 72.42747211 75.95592361 67.7876973  36.78177701 50.78445069 81.40140782\n",
      " 41.56046723 72.03850895 51.00671535 80.12338602 25.66854393 67.84326346\n",
      " 79.01206271 56.95229505 43.39415069 71.06610106 56.73003038 76.56715143\n",
      " 85.90226722 31.64190671 69.45468226 74.70568489 72.45525519 92.12567774\n",
      " 38.92107437 71.84402737 45.81127888 29.61374167 59.81395256 71.28836572\n",
      " 74.31672173 73.37209692 32.69766385 46.36694054 30.78063114 65.59283376\n",
      " 86.31901346 91.31996834 60.92527587 77.98408865 40.06018076 40.810324\n",
      " 50.64553527 86.65241045 60.98084204 55.34087625 49.61756121 69.70473\n",
      " 87.2080721  78.56753339 88.68057549 53.53497587 93.65374729 75.59474354\n",
      " 89.51406797 68.4267082  50.81223377 79.9844706  28.2801537  27.78005821\n",
      " 58.23031685 30.08605408 71.09388414 73.64992775 77.9007394  63.73136722\n",
      " 75.62252662 50.42327061 75.84479128 49.75647663 94.93176909 69.76029617\n",
      " 40.58805934 50.53440294 91.93119616 37.67083565 80.06781985 46.56142212\n",
      " 83.42957286 69.59359767 82.76277887 53.20157888 29.2525616  66.1762785\n",
      " 39.69900069 86.43014579 72.5941706  33.53115633 89.18067098 81.20692624\n",
      " 90.79208977 66.84307249 84.42976383 26.41868716 62.89787474 34.47578114\n",
      " 56.42441647 35.19814129 56.64668114 31.14181122 54.39625144 40.11574693\n",
      " 92.45907473 96.23757398 50.25657212 91.40331759 94.23719203 31.69747287\n",
      " 77.34507775 79.53994128 79.06762887 34.55913039 81.48475707 61.31423903\n",
      " 88.84727398 53.59054204 45.28340031 72.23299053 93.84822887 62.84230858\n",
      " 41.19928716 77.03946384 58.952677   86.01339955 54.06285444 66.06514617\n",
      " 39.61565144 87.48590293 35.6704537  65.64839993 62.28664692 53.06266347\n",
      " 83.51292211 89.59741722 53.03488039 36.00385069 46.92260219 67.95439579\n",
      " 86.04118263 64.59264279 77.37286083 72.20520745 86.54127812 57.06342738\n",
      " 50.2843552  94.68172135 83.15174203 73.42766309 44.78330482 32.58653152\n",
      " 77.20616233 81.45697399 46.45028979 63.56466873 42.36617663 37.47635407\n",
      " 75.98370669 52.00690633 82.17933414 77.23394542 56.25771798 31.3362928\n",
      " 78.37305181 28.80803227 83.90188526 51.14563076 89.90303113 77.12281308\n",
      " 71.45506421 52.25695407 69.98256083 32.6143146  91.95897925 28.08567212\n",
      " 32.44761611 61.28645595 61.34202211 90.04194654 85.62443639 28.94694769\n",
      " 27.55779355 67.64878188 29.0858631  31.94752062 61.89768377 49.08968264\n",
      " 50.95114918 94.45945669 76.81719918 50.58996911 41.78273189 95.73747849\n",
      " 39.11555595 36.50394618 95.01511834 85.81891797 40.36579467 55.00747926\n",
      " 46.53363903 28.86359844 41.72716573 83.06839278 29.50260934 31.30850971\n",
      " 70.48265632 83.76296985 53.9795052  84.67981158 44.56104016 43.67198152\n",
      " 81.95706947 84.87429316 83.81853602 40.47692701 92.6813394  70.45487324\n",
      " 69.28798376 33.67007174 55.72983941 32.91992851 56.09101948 83.45735594\n",
      " 35.86493528 36.75399392 28.64133378 65.73174918 44.81108791 37.2818725\n",
      " 49.22859806 69.17685143 83.92966835 61.73098527 52.75704956 48.56180407\n",
      " 69.31576685 26.77986723 38.83772513 61.0364082  69.8714285  33.36445783\n",
      " 77.59512549 58.20253377 57.48017362 87.01359053 78.31748564 48.39510557\n",
      " 56.59111497 76.01148978 66.50967549 73.87219241 28.55798453 72.09407512\n",
      " 27.19661348 35.53153829 30.89176347 74.23337248 46.33915745 67.73213113\n",
      " 38.17093114 56.45219956 54.95191309 88.6527924  90.06972962 80.34565068]\n"
     ]
    }
   ],
   "source": [
    "print(y_pred)"
   ]
  },
  {
   "cell_type": "code",
   "execution_count": 20,
   "metadata": {},
   "outputs": [
    {
     "data": {
      "text/plain": [
       "(2550, 2)"
      ]
     },
     "execution_count": 20,
     "metadata": {},
     "output_type": "execute_result"
    }
   ],
   "source": [
    "df.shape"
   ]
  },
  {
   "cell_type": "code",
   "execution_count": 22,
   "metadata": {},
   "outputs": [
    {
     "data": {
      "text/html": [
       "<div>\n",
       "<style scoped>\n",
       "    .dataframe tbody tr th:only-of-type {\n",
       "        vertical-align: middle;\n",
       "    }\n",
       "\n",
       "    .dataframe tbody tr th {\n",
       "        vertical-align: top;\n",
       "    }\n",
       "\n",
       "    .dataframe thead th {\n",
       "        text-align: right;\n",
       "    }\n",
       "</style>\n",
       "<table border=\"1\" class=\"dataframe\">\n",
       "  <thead>\n",
       "    <tr style=\"text-align: right;\">\n",
       "      <th></th>\n",
       "      <th>Date</th>\n",
       "      <th>Close</th>\n",
       "    </tr>\n",
       "  </thead>\n",
       "  <tbody>\n",
       "    <tr>\n",
       "      <th>1</th>\n",
       "      <td>2009-03-10</td>\n",
       "      <td>26.87</td>\n",
       "    </tr>\n",
       "    <tr>\n",
       "      <th>146</th>\n",
       "      <td>2009-09-29</td>\n",
       "      <td>33.17</td>\n",
       "    </tr>\n",
       "    <tr>\n",
       "      <th>265</th>\n",
       "      <td>2010-03-15</td>\n",
       "      <td>33.44</td>\n",
       "    </tr>\n",
       "    <tr>\n",
       "      <th>327</th>\n",
       "      <td>2010-06-11</td>\n",
       "      <td>36.30</td>\n",
       "    </tr>\n",
       "    <tr>\n",
       "      <th>329</th>\n",
       "      <td>2010-06-15</td>\n",
       "      <td>36.70</td>\n",
       "    </tr>\n",
       "  </tbody>\n",
       "</table>\n",
       "</div>"
      ],
      "text/plain": [
       "           Date  Close\n",
       "1    2009-03-10  26.87\n",
       "146  2009-09-29  33.17\n",
       "265  2010-03-15  33.44\n",
       "327  2010-06-11  36.30\n",
       "329  2010-06-15  36.70"
      ]
     },
     "execution_count": 22,
     "metadata": {},
     "output_type": "execute_result"
    }
   ],
   "source": [
    "# generating 25 random integers\n",
    "\n",
    "randints=np.random.randint(2550,size=25)\n",
    "\n",
    "df_min=df[df.index.isin(randints)]\n",
    "df_min.head()"
   ]
  },
  {
   "cell_type": "code",
   "execution_count": 24,
   "metadata": {},
   "outputs": [
    {
     "data": {
      "image/png": "[encoded data removed]",
      "text/plain": [
       "<matplotlib.figure.Figure at 0x13c27aebd30>"
      ]
     },
     "metadata": {},
     "output_type": "display_data"
    }
   ],
   "source": [
    "plt.figure(1,figsize=(14,10))\n",
    "plt.title('Comapring Actual vs predition')\n",
    "plt.scatter(x_test,y_test,edgecolor='w',label='Actual_Price')\n",
    "plt.plot(x_test,y_pred,color='r',label='Predicted')\n",
    "plt.xlabel('Date')\n",
    "plt.ylabel('Stock Values actual and Predicted')\n",
    "plt.legend()\n",
    "plt.show()"
   ]
  },
  {
   "cell_type": "code",
   "execution_count": null,
   "metadata": {},
   "outputs": [],
   "source": []
  }
 ],
 "metadata": {
  "kernelspec": {
   "display_name": "Python 3",
   "language": "python",
   "name": "python3"
  },
  "language_info": {
   "codemirror_mode": {
    "name": "ipython",
    "version": 3
   },
   "file_extension": ".py",
   "mimetype": "text/x-python",
   "name": "python",
   "nbconvert_exporter": "python",
   "pygments_lexer": "ipython3",
   "version": "3.6.8"
  }
 },
 "nbformat": 4,
 "nbformat_minor": 2
}
